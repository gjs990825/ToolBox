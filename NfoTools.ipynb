{
 "cells": [
  {
   "cell_type": "code",
   "id": "initial_id",
   "metadata": {
    "collapsed": true,
    "ExecuteTime": {
     "end_time": "2025-06-24T14:02:01.706529Z",
     "start_time": "2025-06-24T14:02:01.702549Z"
    }
   },
   "source": [
    "import re\n",
    "\n",
    "def extract_episode_info(filename):\n",
    "    \"\"\"\n",
    "    Extracts episode information from a given filename string.\n",
    "\n",
    "    Args:\n",
    "        filename (str): The filename string to parse.\n",
    "\n",
    "    Returns:\n",
    "        str or None: The extracted episode information string if found,\n",
    "                     otherwise None.\n",
    "    \"\"\"\n",
    "    # Regex to capture the team, then the show name, then the episode info\n",
    "    # We are specifically looking for the third square bracketed group.\n",
    "    # The pattern is:\n",
    "    # \\[.*?\\]        -> Non-greedy match for the first bracketed team name\n",
    "    # \\s*            -> Optional whitespace\n",
    "    # (.+?)          -> Non-greedy match for the show name\n",
    "    # \\s*            -> Optional whitespace\n",
    "    # \\[(.*?)\\]      -> The episode information, non-greedy\n",
    "    # .*             -> Any remaining characters\n",
    "    match = re.search(r'\\[.*?\\]\\s*(.+?)\\s*\\[(.*?)\\]', filename)\n",
    "\n",
    "    if match:\n",
    "        # The episode information is in the second capturing group of this specific regex\n",
    "        return match.group(2)\n",
    "    else:\n",
    "        return None"
   ],
   "outputs": [],
   "execution_count": 9
  },
  {
   "metadata": {
    "ExecuteTime": {
     "end_time": "2025-06-24T14:02:01.736901Z",
     "start_time": "2025-06-24T14:02:01.725903Z"
    }
   },
   "cell_type": "code",
   "source": [
    "import pathlib\n",
    "\n",
    "root = pathlib.Path(r'D:\\Downloads\\download_2025-06-24_21-37-39')"
   ],
   "id": "3b71118d3795eb16",
   "outputs": [],
   "execution_count": 10
  },
  {
   "metadata": {
    "ExecuteTime": {
     "end_time": "2025-06-24T14:02:01.768901Z",
     "start_time": "2025-06-24T14:02:01.753902Z"
    }
   },
   "cell_type": "code",
   "source": [
    "files = list(root.glob('*.nfo'))\n",
    "extracted = [extract_episode_info(filename.name) for filename in files]"
   ],
   "id": "dbb4480640495acd",
   "outputs": [],
   "execution_count": 11
  },
  {
   "metadata": {
    "ExecuteTime": {
     "end_time": "2025-06-24T14:02:01.800516Z",
     "start_time": "2025-06-24T14:02:01.786516Z"
    }
   },
   "cell_type": "code",
   "source": [
    "import xml.etree.ElementTree as ET\n",
    "\n",
    "def modify_xml(xml_path, title_text):\n",
    "    tree = ET.parse(xml_path)\n",
    "    root = tree.getroot()\n",
    "    title = root.find('title')\n",
    "    title.text = title_text\n",
    "    tree.write(xml_path, encoding='utf-8', xml_declaration=True)"
   ],
   "id": "a60b219c1719ac61",
   "outputs": [],
   "execution_count": 12
  },
  {
   "metadata": {
    "ExecuteTime": {
     "end_time": "2025-06-24T14:02:01.832513Z",
     "start_time": "2025-06-24T14:02:01.818516Z"
    }
   },
   "cell_type": "code",
   "source": [
    "for f, e in zip(files, extracted):\n",
    "    if e is None:\n",
    "        continue\n",
    "    modify_xml(f, e)"
   ],
   "id": "2ad300fe46a1c32d",
   "outputs": [],
   "execution_count": 13
  }
 ],
 "metadata": {
  "kernelspec": {
   "display_name": "Python 3",
   "language": "python",
   "name": "python3"
  },
  "language_info": {
   "codemirror_mode": {
    "name": "ipython",
    "version": 2
   },
   "file_extension": ".py",
   "mimetype": "text/x-python",
   "name": "python",
   "nbconvert_exporter": "python",
   "pygments_lexer": "ipython2",
   "version": "2.7.6"
  }
 },
 "nbformat": 4,
 "nbformat_minor": 5
}
